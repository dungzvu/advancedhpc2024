{
  "cells": [
    {
      "cell_type": "markdown",
      "metadata": {},
      "source": [
        "## Labwork 2: Get to know your GPU"
      ]
    },
    {
      "cell_type": "code",
      "execution_count": 1,
      "metadata": {
        "colab": {
          "base_uri": "https://localhost:8080/"
        },
        "id": "psVEeqJ9GB4W",
        "outputId": "05d94bab-0ecc-42dc-b4c2-4dfb1eccd688"
      },
      "outputs": [
        {
          "name": "stdout",
          "output_type": "stream",
          "text": [
            "Requirement already satisfied: numba in /usr/local/lib/python3.10/dist-packages (0.60.0)\n",
            "Requirement already satisfied: llvmlite<0.44,>=0.43.0dev0 in /usr/local/lib/python3.10/dist-packages (from numba) (0.43.0)\n",
            "Requirement already satisfied: numpy<2.1,>=1.22 in /usr/local/lib/python3.10/dist-packages (from numba) (1.26.4)\n"
          ]
        }
      ],
      "source": [
        "!pip install numba"
      ]
    },
    {
      "cell_type": "code",
      "execution_count": 2,
      "metadata": {
        "id": "4pn0cXekJNQQ"
      },
      "outputs": [],
      "source": [
        "import numba"
      ]
    },
    {
      "cell_type": "code",
      "execution_count": null,
      "metadata": {
        "id": "tz1z4JNaL6Ms"
      },
      "outputs": [],
      "source": [
        "# from numba.cuda.cudadrv import driver\n",
        "# driver.DEVICE_ATTRIBUTES"
      ]
    },
    {
      "cell_type": "code",
      "execution_count": null,
      "metadata": {
        "id": "lA-C5ujrKbGL"
      },
      "outputs": [],
      "source": [
        "numba.cuda.detect()"
      ]
    },
    {
      "cell_type": "code",
      "execution_count": 5,
      "metadata": {
        "colab": {
          "base_uri": "https://localhost:8080/"
        },
        "id": "yv_-PIM8Kkhz",
        "outputId": "ef9d2ce0-26ab-49a6-9871-a97a3280eb1a"
      },
      "outputs": [
        {
          "name": "stdout",
          "output_type": "stream",
          "text": [
            "Id: 0, uuid: GPU-639b0205-e48d-34a7-2fae-9bc07670821b\n",
            "Device name: b'Tesla T4'\n",
            "Multiprocessor cores: 40\n",
            "Core count: 5120\n",
            "Memory size: 15102.06 MB\n"
          ]
        }
      ],
      "source": [
        "dvc = numba.cuda.select_device(0)\n",
        "print(f\"Id: {dvc.id}, uuid: {dvc.uuid}\")\n",
        "print(f\"Device name: {dvc.name}\")\n",
        "print(f\"Multiprocessor cores: {dvc.MULTIPROCESSOR_COUNT}\")\n",
        "print(f\"Core count: {dvc.MULTIPROCESSOR_COUNT * 128}\")\n",
        "\n",
        "total_mem = numba.cuda.current_context().get_memory_info().total\n",
        "total_mem_in_MB = total_mem / (1024 * 1024)\n",
        "\n",
        "print(f\"Memory size: {total_mem_in_MB:.2f} MB\")\n",
        "# dvc.compute_capability\n"
      ]
    }
  ],
  "metadata": {
    "accelerator": "GPU",
    "colab": {
      "gpuType": "T4",
      "provenance": []
    },
    "kernelspec": {
      "display_name": "Python 3",
      "name": "python3"
    },
    "language_info": {
      "name": "python"
    }
  },
  "nbformat": 4,
  "nbformat_minor": 0
}
